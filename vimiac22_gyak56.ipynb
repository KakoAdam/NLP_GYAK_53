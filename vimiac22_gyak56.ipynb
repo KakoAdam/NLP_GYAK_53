{
  "nbformat": 4,
  "nbformat_minor": 0,
  "metadata": {
    "colab": {
      "provenance": [],
      "include_colab_link": true
    },
    "kernelspec": {
      "name": "python3",
      "display_name": "Python 3"
    },
    "language_info": {
      "name": "python"
    }
  },
  "cells": [
    {
      "cell_type": "markdown",
      "metadata": {
        "id": "view-in-github",
        "colab_type": "text"
      },
      "source": [
        "<a href=\"https://colab.research.google.com/github/KakoAdam/NLP_GYAK_53/blob/main/vimiac22_gyak56.ipynb\" target=\"_parent\"><img src=\"https://colab.research.google.com/assets/colab-badge.svg\" alt=\"Open In Colab\"/></a>"
      ]
    },
    {
      "cell_type": "markdown",
      "source": [
        "# Ismerkedés az OpenAI programozói felületével (bmevimiac22 kurzus 5.6. gyakorlat)  \n",
        "A gyakorlat működéséhez szükséges egy OPENAI_API_KEY secret beállítása."
      ],
      "metadata": {
        "id": "sDEWf995-BtI"
      }
    },
    {
      "cell_type": "markdown",
      "source": [
        "Az OpenAI [Python könyvtárát](https://github.com/openai/openai-python) használjuk."
      ],
      "metadata": {
        "id": "AsVyoGv9AK5m"
      }
    },
    {
      "cell_type": "markdown",
      "source": [],
      "metadata": {
        "id": "O43LZ9x5FS_M"
      }
    },
    {
      "cell_type": "code",
      "execution_count": null,
      "metadata": {
        "id": "aEI4-62o6KDv"
      },
      "outputs": [],
      "source": [
        "!pip install openai >/dev/null"
      ]
    },
    {
      "cell_type": "markdown",
      "source": [],
      "metadata": {
        "id": "5PrutmdN-yZp"
      }
    },
    {
      "cell_type": "code",
      "source": [
        "from openai import OpenAI\n",
        "from google.colab import userdata\n",
        "\n",
        "openai = OpenAI(api_key = userdata.get('OPENAI_API_KEY'))"
      ],
      "metadata": {
        "id": "89pJZk90-3QE"
      },
      "execution_count": null,
      "outputs": []
    },
    {
      "cell_type": "markdown",
      "source": [
        "## Modellválasztás\n",
        "https://openai.com/api/pricing/"
      ],
      "metadata": {
        "id": "qYvngKdRAoeC"
      }
    },
    {
      "cell_type": "code",
      "source": [
        "openai_modell = ' TODO '"
      ],
      "metadata": {
        "id": "g_uy5_B4As0V"
      },
      "execution_count": null,
      "outputs": []
    },
    {
      "cell_type": "markdown",
      "source": [
        "## Egyszerű teszt  \n",
        "A modelleknek különféle - modellektől függő felépítésű - üzeneteket küldhetünk, amire választ küldenek.  \n",
        "Az üzenetek összeállításával a prompttervezés foglalkozik (lásd előadás).  \n",
        "Az üzenetekhez szerepkört (role) rendelhetünk. Részletesen lásd [itt](https://platform.openai.com/docs/guides/text-generation/building-prompts) és az [API leírásában](https://platform.openai.com/docs/api-reference/chat/create).  \n",
        "A válasz egy folytatás (chat completion) lesz\n",
        "\n"
      ],
      "metadata": {
        "id": "9fpVRPUX_QaJ"
      }
    },
    {
      "cell_type": "code",
      "source": [
        "def openai_complete(content):\n",
        "  completion = openai.chat.completions.create(\n",
        "    model=openai_modell,\n",
        "    messages=[\n",
        "        {\"role\": \"system\", \"content\": \"You are a helpful assistant.\"},\n",
        "        {\n",
        "            \"role\": \"user\",\n",
        "            \"content\": content\n",
        "        }\n",
        "    ]\n",
        "  )\n",
        "  return completion.choices[0].message.content\n",
        "\n",
        "print(openai_complete(\"Írj egy rövid Python kódot, amely megszámolja egy szöveg szavait!\"))"
      ],
      "metadata": {
        "id": "T3fd2dC--aYc"
      },
      "execution_count": null,
      "outputs": []
    },
    {
      "cell_type": "markdown",
      "source": [
        "Próbálja ki az elkészült kódot itt:"
      ],
      "metadata": {
        "id": "6prvuYVwEDkL"
      }
    },
    {
      "cell_type": "code",
      "source": [
        "... TODO ..."
      ],
      "metadata": {
        "id": "hfkn2UAVFDF-"
      },
      "execution_count": null,
      "outputs": []
    },
    {
      "cell_type": "markdown",
      "source": [
        "## Tokenizálás  \n",
        "Nézzük meg, az OpenAI hogyan tokenizálja a szöveget!  \n",
        "A fenti generált kódban található szöveget írja be az OpenAI [tokenizálást tesztelő](https://platform.openai.com/tokenizer) weboldalán!  \n",
        "Értékele a látottakat:  \n",
        "... TODO ...  \n",
        "Miért lehet ilyen a tokenziálás?  "
      ],
      "metadata": {
        "id": "vF6sXlhxFXno"
      }
    },
    {
      "cell_type": "markdown",
      "source": [
        "Az OpenAI modelljei a [Tiktoken tokenizálót](https://github.com/openai/tiktoken) használják.  \n",
        "Próbálja ki ezt is!"
      ],
      "metadata": {
        "id": "xv1RSepCGRQc"
      }
    },
    {
      "cell_type": "code",
      "source": [
        "!pip install tiktoken >/dev/null"
      ],
      "metadata": {
        "id": "8ct4bsfuFehT"
      },
      "execution_count": null,
      "outputs": []
    },
    {
      "cell_type": "code",
      "source": [
        "import tiktoken\n",
        "enc = tiktoken.encoding_for_model(openai_modell)\n",
        "\n",
        "tokens = enc.encode(\"  TODO  \")\n",
        "print(tokens)"
      ],
      "metadata": {
        "id": "emFIlOzgGmNf"
      },
      "execution_count": null,
      "outputs": []
    },
    {
      "cell_type": "markdown",
      "source": [
        "Számokat kaptunk.  \n",
        "Így nézhetjük meg a tokenek szövegét:"
      ],
      "metadata": {
        "id": "iN3upqsqHgGT"
      }
    },
    {
      "cell_type": "code",
      "source": [
        "for tok in tokens:\n",
        "  print(enc.decode([tok]))"
      ],
      "metadata": {
        "id": "NzPAI1TcHnAJ"
      },
      "execution_count": null,
      "outputs": []
    },
    {
      "cell_type": "markdown",
      "source": [
        "Angol és magyar szövegekkel is kipróbálhatja."
      ],
      "metadata": {
        "id": "v_xKX-7LIBDs"
      }
    },
    {
      "cell_type": "markdown",
      "source": [
        "## Szóbeágyazások készítése"
      ],
      "metadata": {
        "id": "l-p7ThHzIFID"
      }
    },
    {
      "cell_type": "markdown",
      "source": [
        "Modellválasztás  \n",
        "https://platform.openai.com/docs/models/embeddings"
      ],
      "metadata": {
        "id": "7DMBZvPbJbAg"
      }
    },
    {
      "cell_type": "code",
      "source": [
        "embedding_model = \" TODO \""
      ],
      "metadata": {
        "id": "nek5Ok52Jekr"
      },
      "execution_count": null,
      "outputs": []
    },
    {
      "cell_type": "code",
      "source": [
        "import numpy as np\n",
        "\n",
        "def get_embedding(text):\n",
        "   text = text.replace(\"\\n\", \" \")\n",
        "   return np.array(openai.embeddings.create(input = [text], model=embedding_model).data[0].embedding)\n",
        "\n",
        "get_embedding('queen').shape"
      ],
      "metadata": {
        "id": "Ntuu8c9pIjHi"
      },
      "execution_count": null,
      "outputs": []
    },
    {
      "cell_type": "code",
      "source": [
        "dist_km = np.linalg.norm(get_embedding('king') - get_embedding('man'))\n",
        "dist_qw = np.linalg.norm(get_embedding('queen') - get_embedding('woman'))\n",
        "\n",
        "print(f\"King - man = {dist_km:.3}\\tvs.\\tQueen - woman = {dist_qw:.3}\")"
      ],
      "metadata": {
        "id": "lko-5ZAFKA3b"
      },
      "execution_count": null,
      "outputs": []
    },
    {
      "cell_type": "markdown",
      "source": [
        "## Prompttervezés  \n",
        "\n",
        "A korábbi szóbeágyazási példákban látott analógiaszámítást most a generatív modellel valósítjuk meg."
      ],
      "metadata": {
        "id": "cxuFiBs8L0Ki"
      }
    },
    {
      "cell_type": "code",
      "source": [
        "print(openai_complete(\"small is to smaller as big to \"))"
      ],
      "metadata": {
        "id": "h8LfjmAOeyWz"
      },
      "execution_count": null,
      "outputs": []
    },
    {
      "cell_type": "markdown",
      "source": [
        "Ha ideje engedi, kísérletezzen további egyszerű feladatokkal is."
      ],
      "metadata": {
        "id": "CqpmDAu8iMx-"
      }
    }
  ]
}