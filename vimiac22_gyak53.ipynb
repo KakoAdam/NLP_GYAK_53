{
  "nbformat": 4,
  "nbformat_minor": 0,
  "metadata": {
    "colab": {
      "provenance": [],
      "include_colab_link": true
    },
    "kernelspec": {
      "name": "python3",
      "display_name": "Python 3"
    },
    "language_info": {
      "name": "python"
    }
  },
  "cells": [
    {
      "cell_type": "markdown",
      "metadata": {
        "id": "view-in-github",
        "colab_type": "text"
      },
      "source": [
        "<a href=\"https://colab.research.google.com/github/KakoAdam/NLP_GYAK_53/blob/main/vimiac22_gyak53.ipynb\" target=\"_parent\"><img src=\"https://colab.research.google.com/assets/colab-badge.svg\" alt=\"Open In Colab\"/></a>"
      ]
    },
    {
      "cell_type": "markdown",
      "source": [
        "# Ismerkedés a szóbeágyazásokkal (bmevimiac22 kurzus 5.3. gyakorlat)  \n",
        "Ebben a gyakorlatban a szóbeágyazások elemi használatával ismerkedünk meg, kicsit belenézve a modellek belsejébe is.  \n",
        "Későbbi gyakorlatokban látni fog ennél egyszerűbb megoldásokat is."
      ],
      "metadata": {
        "id": "kJRpTbh0FLvE"
      }
    },
    {
      "cell_type": "markdown",
      "source": [
        "Letöltünk egy szóbeágyazás-modellt (Stanford GloVe [link text](https://github.com/stanfordnlp/GloVe)).  \n",
        "Eltarthat egy ideig. Amíg fut, addig átnézheti a következő feladatokat.  \n",
        "*Ha GloVe angol modellel megoldotta a feladatokat, akkor megpróbálkozhat más modellekkel is. Ennek részleteit a feladatsor végén találja.*"
      ],
      "metadata": {
        "id": "bYfA-FwFFS0_"
      }
    },
    {
      "cell_type": "code",
      "execution_count": null,
      "metadata": {
        "id": "e36bDkgQFK_W"
      },
      "outputs": [],
      "source": [
        "!wget https://huggingface.co/stanfordnlp/glove/resolve/main/glove.6B.zip"
      ]
    },
    {
      "cell_type": "markdown",
      "source": [
        "Kicsomagoljuk."
      ],
      "metadata": {
        "id": "KKnvgs6RFx0U"
      }
    },
    {
      "cell_type": "code",
      "source": [
        "!unzip glove.6B.zip"
      ],
      "metadata": {
        "id": "GL149CU2Fws1"
      },
      "execution_count": null,
      "outputs": []
    },
    {
      "cell_type": "markdown",
      "source": [
        "A fájlok nevében az első szám a tanításra használt korpusz méretét (tokenekben), míg a második a szóbeágyazás-vektor nagyságát írja le."
      ],
      "metadata": {
        "id": "JhPDjZ1XGiQ9"
      }
    },
    {
      "cell_type": "markdown",
      "source": [
        "A modellfájlok soronként egy szót és annak vektorreprezentációját tartalmazzák.  \n",
        "Nézze meg a king (király) szó reprezentációját a legkisebb modellben!  \n",
        "Számolja meg, hány szót tartalmaz a legnagyobb modell!  \n",
        "A feladatokat a `grep` és a `wc` Unix paranccsokkal oldja meg!  \n",
        "(A Unix rendszerprogramjai közül számos eszköz jól használható szövegfeldolgozási feladatokban, pl.: grep, wc, sed, awk, perl.)"
      ],
      "metadata": {
        "id": "uXsQnAe9GslO"
      }
    },
    {
      "cell_type": "code",
      "source": [
        "!grep\n",
        "!wc"
      ],
      "metadata": {
        "id": "9Uvm-B3_G8tT"
      },
      "execution_count": null,
      "outputs": []
    },
    {
      "cell_type": "markdown",
      "source": [
        "Kiválasztunk egy modellt.  \n",
        "Kisebb (akár 50d) modellel is lehet kísérletezni, de az eredmények egyes esetekben nem lesznek annyira látványosak. (Azért rosszak sem.)"
      ],
      "metadata": {
        "id": "thfVYjY8bZOv"
      }
    },
    {
      "cell_type": "code",
      "source": [
        "modelfile = 'glove.6B.300d.txt'"
      ],
      "metadata": {
        "id": "YXE9-gjLbo8O"
      },
      "execution_count": null,
      "outputs": []
    },
    {
      "cell_type": "markdown",
      "source": [
        "## A modell betöltése  \n",
        "Egy olyan Python szótárat alkotunk, amelynek kulcsai a szavak, értékei pedig a szóbeágyazás-vektorok.  \n",
        "A [numpy](https://numpy.org/) egy matematikai programcsomag, ami pár dolgot leegyszerűsít számunkra a későbbiekben.  \n",
        "A modell betöltése percekig is tarthat. A haladást jelzi a `tqdm`, a sorok számát fentebb számoltuk meg a `wc` paranccsal.  \n",
        "Kisebb (akár 50d) modellel is lehet kísérletezni, de az eredmények egyes esetekben nem lesznek annyira látványosak. (Azért rosszak sem.)  \n",
        "Ha másik modellt választ, akkor a szavak összes számát (a `total` argumentumot) is ki kell javítani."
      ],
      "metadata": {
        "id": "ApAj4Q4THQdi"
      }
    },
    {
      "cell_type": "code",
      "source": [
        "import numpy as np\n",
        "import os\n",
        "from tqdm.notebook import trange, tqdm\n",
        "\n",
        "with open(modelfile, \"r\") as f:\n",
        "  embeddings = {l.split()[0]: np.array(l.split()[1:]).astype('float') for l in tqdm(f, total=400001)}"
      ],
      "metadata": {
        "id": "2mZ3bDcsHTJ7"
      },
      "execution_count": null,
      "outputs": []
    },
    {
      "cell_type": "markdown",
      "source": [
        "Kiírjuk a king szóhoz tartozó vektor első pár elemét."
      ],
      "metadata": {
        "id": "_yAPBpJ0Uh0l"
      }
    },
    {
      "cell_type": "code",
      "source": [
        "print(embeddings['king'][:6])"
      ],
      "metadata": {
        "id": "_HgHcACJICVK"
      },
      "execution_count": null,
      "outputs": []
    },
    {
      "cell_type": "markdown",
      "source": [
        "Hasonlítsuk össze néhány szópár vektorát!  \n",
        "Az [euklideszi távolságmértéket](https://hu.wikipedia.org/wiki/T%C3%A1vols%C3%A1g#Az_euklideszi_t%C3%A9rben) (a Numpy csomag `linalg.norm()` függvényét) fogjuk használni."
      ],
      "metadata": {
        "id": "qOPOvJJuJLxA"
      }
    },
    {
      "cell_type": "code",
      "source": [
        "dist_kq = np.linalg.norm(embeddings['king'] - embeddings['queen'])\n",
        "print(dist_kq)\n",
        "dist_kc = np.linalg.norm(embeddings['king'] - embeddings['car'])\n",
        "print(dist_kc)\n",
        "dist_km = np.linalg.norm(embeddings['king'] - embeddings['man'])\n",
        "print(dist_km)"
      ],
      "metadata": {
        "id": "jMkI7DJDKRRC"
      },
      "execution_count": null,
      "outputs": []
    },
    {
      "cell_type": "markdown",
      "source": [
        "Megfigyelhetjük, hogy a király közelebb áll a királynőhöz, mint az autóhoz vagy a férfihoz.  \n",
        "Magyarázza el, mi lehet ennek az oka:  \n",
        "TODO"
      ],
      "metadata": {
        "id": "tIg0f2HtK6yP"
      }
    },
    {
      "cell_type": "markdown",
      "source": [
        "Hasonlítsuk össze szópárok távolságát!"
      ],
      "metadata": {
        "id": "TmXZpObD8WWd"
      }
    },
    {
      "cell_type": "code",
      "source": [
        "dist_qw = np.linalg.norm(embeddings['queen'] - embeddings['woman'])\n",
        "print(f\"King - man = {dist_km:.3}\\tvs.\\tQueen - woman = {dist_qw:.3}\")"
      ],
      "metadata": {
        "id": "fv6-lSmZLhRu"
      },
      "execution_count": null,
      "outputs": []
    },
    {
      "cell_type": "markdown",
      "source": [
        "A king és a férfi távolsága nagyon hasonlít a királynő és a nő távolságához."
      ],
      "metadata": {
        "id": "9Z1gCRr2MLDn"
      }
    },
    {
      "cell_type": "markdown",
      "source": [
        "Kísérletezzen további szópárokkal (pl. jelzők fokozásával, országokkal és fővárosaikkal stb.)!  \n",
        "Megjegyzés: a szótárban minden szó kisbetűs."
      ],
      "metadata": {
        "id": "KmM3vCUMVH8f"
      }
    },
    {
      "cell_type": "code",
      "source": [
        "dist1 = np.linalg.norm(embeddings['madrid'] - embeddings['spain'])\n",
        "dist2 = np.linalg.norm(embeddings['rome'] - embeddings['italy'])\n",
        "print(f\"{dist1:.3}\\tvs.\\t{dist2:.3}\")\n",
        "TODO"
      ],
      "metadata": {
        "id": "0PSNtsskVPep"
      },
      "execution_count": null,
      "outputs": []
    },
    {
      "cell_type": "markdown",
      "source": [
        "Próbáljon egy olyan programot írni, ami meghatározza X értékét az alább mondatban:  \n",
        "\n",
        "> small is to smaller as big to X  \n",
        "\n",
        "A program az első két szó mintáját követve meghatározza a harmadik szó párját, azaz minimalizálja a két szópár közötti különbségek eltérését."
      ],
      "metadata": {
        "id": "xU2PwvIAVwx_"
      }
    },
    {
      "cell_type": "code",
      "source": [
        "# a nyelvi modell (embeddings) globális változóban elérhető\n",
        "def embed_associate(token1, token2, token3):\n",
        "  basedist = np.linalg.norm(embeddings[token1] - embeddings[token2])\n",
        "  min = 10\n",
        "  res = 'No close match'\n",
        "  for tok, emb in tqdm(embeddings.items()):\n",
        "    TODO\n",
        "  return res\n",
        "\n",
        "print(embed_associate('small', 'smaller', 'big'))"
      ],
      "metadata": {
        "id": "8L9l0X6eWlP9"
      },
      "execution_count": null,
      "outputs": []
    },
    {
      "cell_type": "markdown",
      "source": [
        "Ha sikerült, kísérletezzen más példákkal is, és írja le a tapasztalatait!"
      ],
      "metadata": {
        "id": "EWN-uCGy7xHH"
      }
    },
    {
      "cell_type": "code",
      "source": [
        "print(embed_associate('dog', 'puppy', 'cat'))\n",
        "TODO"
      ],
      "metadata": {
        "id": "1FMp3_ZV72-3"
      },
      "execution_count": null,
      "outputs": []
    },
    {
      "cell_type": "markdown",
      "source": [
        "Tapasztalatok:  \n",
        "TODO"
      ],
      "metadata": {
        "id": "duR8Rh8OmaFx"
      }
    },
    {
      "cell_type": "markdown",
      "source": [
        "## Szóbeágyazások vizualizációja\n",
        "A beágyazásvektorok 300 dimenziós térben vannak. A vizualizációhoz 2D térbe kell ezeket transzformálnunk.  \n",
        "A főkomponens-analízis ([Principal component analysis](https://scikit-learn.org/stable/modules/decomposition.html#pca), PCA) pont erre való, amely jelentős információvesztés nélkül igyekszik csökkenteni a dimenziószámot a megadott értékűre. (A módszer megismerése mellőzhető.)"
      ],
      "metadata": {
        "id": "19aYcEfWRikm"
      }
    },
    {
      "cell_type": "code",
      "source": [
        "from sklearn.decomposition import PCA\n",
        "import matplotlib.pyplot as plt\n",
        "pca = PCA(n_components=2, whiten=True)\n",
        "\n",
        "def embed_plot(tokens, color):\n",
        "  # Lekérdezzük a tokenekhez (szavakhoz) tartozó vektorokat\n",
        "  train_X = [embeddings[t] for t in tokens]\n",
        "\n",
        "  # Illesztünk rá egy PCA modellt és transzformáljuk 2D térbe\n",
        "  em2d = pca.fit_transform(train_X)\n",
        "\n",
        "  # Kirajzoljuk az adatokat\n",
        "  plt.scatter(em2d[:,0], em2d[:,1], c=color)\n",
        "\n",
        "  # Felcímkézzük\n",
        "  for label, x, y in zip(tokens, em2d[:,0], em2d[:,1]):\n",
        "    plt.annotate(label, xy=(x, y), xytext=(0, 0), textcoords='offset points')\n",
        "\n",
        "plt.grid()\n",
        "plt.rcParams['figure.figsize'] = (8, 6)\n",
        "embed_plot(['dog', 'cat', 'dogs', 'cats', 'pet', 'puppy', 'car', 'king', 'queen', 'man', 'woman'], 'blue')\n",
        "plt.show()\n"
      ],
      "metadata": {
        "id": "-xn2j5okSdAl"
      },
      "execution_count": null,
      "outputs": []
    },
    {
      "cell_type": "markdown",
      "source": [
        "Szépen megfigyelhetők a cat - cats vs. dog - dogs párok távolságai, illetve a king, queen és a man, woman szavak elhelyezkedései.  \n",
        "Kísérletezzen más szavakkal is!"
      ],
      "metadata": {
        "id": "aVYtos3M_dQo"
      }
    },
    {
      "cell_type": "code",
      "source": [
        "embed_plot(['big', 'bigger', 'small', 'smaller'], 'blue')\n",
        "embed_plot(['budapest', 'hungary', 'rome', 'italy'], 'red')\n",
        "plt.grid()\n",
        "plt.rcParams['figure.figsize'] = (8, 6)\n",
        "plt.show()\n"
      ],
      "metadata": {
        "id": "SvEBU_c7FAR7"
      },
      "execution_count": null,
      "outputs": []
    },
    {
      "cell_type": "markdown",
      "source": [
        "Ügyesebb eszközzel 3D modellt is készíthetünk.  \n",
        "Kísérletezzen egy kicsit a [Tensorflow Embedding Projectorral](https://projector.tensorflow.org/)!"
      ],
      "metadata": {
        "id": "3lAyYnUOfn9V"
      }
    },
    {
      "cell_type": "markdown",
      "source": [
        "## Kísérletezés más modellekkel  \n",
        "A fenti feladatsort megoldhatja más (pl. magyar nyelvű) szóbeágyazás-modell felhasználásával.  \n",
        "(Ha változik a nyelv, akkor a fentebb használt szavakat is cserélnie kell.)  \n",
        "Ne válasszon túl nagy modellt, mert előfordulhat, hogy a Google Colab erőforrásai nem lesznek elegendők a használatához!  \n",
        "A letöltés általában elég lassú, néha a fájlműveletek is.\n"
      ],
      "metadata": {
        "id": "hY0K7cynNWVO"
      }
    },
    {
      "cell_type": "markdown",
      "source": [
        "Letöltjük a modellt, pl. a [FastText](https://fasttext.cc/docs/en/pretrained-vectors.html)et."
      ],
      "metadata": {
        "id": "vkegl7DNcZPg"
      }
    },
    {
      "cell_type": "code",
      "source": [
        "!wget https://dl.fbaipublicfiles.com/fasttext/vectors-wiki/wiki.en.vec"
      ],
      "metadata": {
        "id": "kYfclQ0hRaJb"
      },
      "execution_count": null,
      "outputs": []
    },
    {
      "cell_type": "markdown",
      "source": [
        "A FastText modell (főleg a magyar) a gyakorlat során igényel egy kis adattisztítást.  \n",
        "Kiszűrjük azokat a sorokat, amelyekben a szó nem betűvel kezdődik és az első számíg (vagy - jelig) nem megfelelő karakterek vannak.  \n",
        "Ez is eltart egy ideig..."
      ],
      "metadata": {
        "id": "VqWfN50Bcogs"
      }
    },
    {
      "cell_type": "code",
      "source": [
        "!grep \"^[a-zéáíóöőüú][a-zéáíóöőüú\\-_]* [-[:digit:]]\" wiki.en.vec > wiki.en.cleaned.vec\n",
        "!wc -l wiki.en.*.vec"
      ],
      "metadata": {
        "id": "cnfIUtHmcnzC"
      },
      "execution_count": null,
      "outputs": []
    },
    {
      "cell_type": "markdown",
      "source": [
        "A modellfájl beállítása után visszaléphet a *modell betöltése* lépésre.  \n",
        "Ha nem angol nyelvű modellt választott, akkor cserélnie kell majd a szavakat a példákban."
      ],
      "metadata": {
        "id": "r75DjyNAcyNy"
      }
    },
    {
      "cell_type": "code",
      "source": [
        "modelfile = 'wiki.en.cleaned.vec'"
      ],
      "metadata": {
        "id": "FsIp6SSEdQuO"
      },
      "execution_count": null,
      "outputs": []
    }
  ]
}